{
 "cells": [
  {
   "cell_type": "code",
   "execution_count": 1,
   "metadata": {},
   "outputs": [],
   "source": [
    "import pandas as pd \n",
    "import numpy as np\n",
    "import matplotlib.pyplot as plt"
   ]
  },
  {
   "cell_type": "markdown",
   "metadata": {},
   "source": [
    "# Introdução ao problema | Introduction to the problem"
   ]
  },
  {
   "cell_type": "markdown",
   "metadata": {},
   "source": [
    "\n",
    "## (PT-BR)\n",
    "\n",
    "Conforme apresentado no curso \"Probability and Statistics in Data Science using Python\" disponível [clicando aqui](https://learning.edx.org/course/course-v1:UCSanDiegoX+DSE210x+2T2023/home), esse notebook tem o objetivo de replicar um exemplo apresentado durante o curso.\n",
    "\n",
    "É ilustrado o seguinte cenário: 3 Cartas são colocadas dentro uma caixa, as cartas possuem as seguintes caraterísticas:\n",
    " \n",
    "- Primeira carta tem um lado azul e outro vermelho\n",
    "- Segunda carta possui dois lados azuis\n",
    "- Terceira carta possui dois lados vermelhos\n",
    "\n",
    "Supondo que uma carta seja aleatoriamente retirada da caixa, qual a probabilidade do outro lado ter a mesma cor?\n",
    "\n",
    "Para esse propósito, será desenvolvido aqui uma simulação de monte carlo para encontrar uma aproximação desses valores\n",
    "\n",
    "\n",
    "## (EN-US)\n",
    "\n",
    "As presented in the course \"Probability and Statistics in Data Science using Python\" available [here](https://learning.edx.org/course/course-v1:UCSanDiegoX+DSE210x+2T2023/home), this Jupyter Notebook aims to replicate the example shown during the course\n",
    "\n",
    "The following scenario is illustrated: 3 cards are placed inside a box. These cards have the following characteristics:\n",
    "\n",
    "- The first card has one blue side and another red side,\n",
    "- The second card has both sides blue,\n",
    "- The third card has both sides red.\n",
    "\n",
    "Supposing that one card is randomly chosen from the box, what is the probability that both sides have the same color?\n",
    "\n",
    "For the proposal, a Monte Carlo simulation will be developed to find the approximate values."
   ]
  },
  {
   "cell_type": "markdown",
   "metadata": {},
   "source": [
    "# Codando a solução | Coding the solution"
   ]
  },
  {
   "cell_type": "code",
   "execution_count": null,
   "metadata": {},
   "outputs": [],
   "source": []
  }
 ],
 "metadata": {
  "kernelspec": {
   "display_name": ".env",
   "language": "python",
   "name": "python3"
  },
  "language_info": {
   "codemirror_mode": {
    "name": "ipython",
    "version": 3
   },
   "file_extension": ".py",
   "mimetype": "text/x-python",
   "name": "python",
   "nbconvert_exporter": "python",
   "pygments_lexer": "ipython3",
   "version": "3.11.4"
  },
  "orig_nbformat": 4
 },
 "nbformat": 4,
 "nbformat_minor": 2
}
