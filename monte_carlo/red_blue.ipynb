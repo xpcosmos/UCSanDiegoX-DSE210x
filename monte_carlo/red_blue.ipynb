{
 "cells": [
  {
   "cell_type": "code",
   "execution_count": 1,
   "metadata": {},
   "outputs": [],
   "source": [
    "import pandas as pd \n",
    "import numpy as np\n",
    "import matplotlib.pyplot as plt"
   ]
  },
  {
   "cell_type": "markdown",
   "metadata": {},
   "source": [
    "# Introdução ao problema | Introduction to the problem"
   ]
  },
  {
   "cell_type": "markdown",
   "metadata": {},
   "source": [
    "\n",
    "## (PT-BR)\n",
    "\n",
    "Conforme apresentado no curso \"Probability and Statistics in Data Science using Python\" disponível [clicando aqui](https://learning.edx.org/course/course-v1:UCSanDiegoX+DSE210x+2T2023/home), esse notebook tem o objetivo de replicar um exemplo apresentado durante o curso.\n",
    "\n",
    "É ilustrado o seguinte cenário: 3 Cartas são colocadas dentro uma caixa, as cartas possuem as seguintes caraterísticas:\n",
    " \n",
    "- Primeira carta tem um lado azul e outro vermelho\n",
    "- Segunda carta possui dois lados azuis\n",
    "- Terceira carta possui dois lados vermelhos\n",
    "\n",
    "Supondo que uma carta seja aleatoriamente retirada da caixa, qual a probabilidade do outro lado ter a mesma cor?\n",
    "\n",
    "Para esse propósito, será desenvolvido aqui uma simulação de monte carlo para encontrar uma aproximação desses valores\n",
    "\n",
    "\n",
    "## (EN-US)\n",
    "\n",
    "As presented in the course \"Probability and Statistics in Data Science using Python\" available [here](https://learning.edx.org/course/course-v1:UCSanDiegoX+DSE210x+2T2023/home), this Jupyter Notebook aims to replicate the example shown during the course\n",
    "\n",
    "The following scenario is illustrated: 3 cards are placed inside a box. These cards have the following characteristics:\n",
    "\n",
    "- The first card has one blue side and another red side,\n",
    "- The second card has both sides blue,\n",
    "- The third card has both sides red.\n",
    "\n",
    "Supposing that one card is randomly chosen from the box, what is the probability that both sides have the same color?\n",
    "\n",
    "For the proposal, a Monte Carlo simulation will be developed to find the approximate values."
   ]
  },
  {
   "cell_type": "markdown",
   "metadata": {},
   "source": [
    "# Codando a solução | Coding the solution"
   ]
  },
  {
   "cell_type": "code",
   "execution_count": 8,
   "metadata": {},
   "outputs": [
    {
     "name": "stdout",
     "output_type": "stream",
     "text": [
      "{'equal_card': 50, 'different_card': 50}\n"
     ]
    }
   ],
   "source": [
    "# Defining the possible events:\n",
    "events = np.array(['RR', 'BB', 'RB', 'BR'])\n",
    "\n",
    "# Where n = number of simulations \n",
    "def simulate(n):\n",
    "    # Creating variables referring to events where the cards are equal or different\n",
    "    equal_card = 0\n",
    "    different_card = 0\n",
    "\n",
    "    # Simulation. The number of simulations is equal to 100, but it can be modified\n",
    "    for i in range(n):\n",
    "        \n",
    "        # Defining choosing a random event.\n",
    "        chosen_event = np.random.choice(events)\n",
    "        \n",
    "        # Calculation the sum of occurrences for a specific event\n",
    "        if chosen_event in ['RR', 'BB']:\n",
    "            equal_card+=1\n",
    "        elif chosen_event in ['RB', 'BR']:\n",
    "            different_card+=1\n",
    "\n",
    "    # Consolidating the results \n",
    "    return {'equal_card':equal_card, 'different_card':different_card}\n",
    "\n",
    "print(simulate(100))"
   ]
  },
  {
   "cell_type": "markdown",
   "metadata": {},
   "source": [
    "## PT-BR\n",
    "\n",
    "Criamos uma função para calcular a probabilidade de cada evento (cartas iguais ou diferentes).\n",
    "\n",
    "Pense comigo... Se subtrairmos uma ocorrência da outra, vamos encontrar quantidade que um evento ocorreu a mais ou a menos que o outro. Tendo isso em mente, podemos criar uma distribuição. Em um cenário ideal, esse número deve ser 0, levando em conta que cada evento tem 50% de chance de ocorrer, se os eventos ocorrem com a mesma frequência, a diferença entre eles deve ser 0.\n",
    "\n",
    "## EN-US\n",
    "\n",
    "We created a function to calculate the probability of a specific event occurring (equal or different cards).\n",
    "\n",
    "Think with me... If we subtract the occurrences of one event from another, we find the number by which one event occurred more than the other. Keeping this in mind, we can create a distribution of probabilities. In an ideal scenario, this number must be 0, considering that each event has a 50% of chance to occurring. If these events occurs with the same frequency, the difference between them must be 0. "
   ]
  },
  {
   "cell_type": "markdown",
   "metadata": {},
   "source": [
    "# [PT-BR] Criando distribuição de probabilidades\n",
    "# [EN-US] Creating probability distribution "
   ]
  },
  {
   "cell_type": "code",
   "execution_count": 26,
   "metadata": {},
   "outputs": [
    {
     "data": {
      "text/plain": [
       "(array([6.0000e+00, 1.8700e+02, 2.0970e+03, 1.0961e+04, 2.8093e+04,\n",
       "        3.3526e+04, 1.9054e+04, 5.3590e+03, 6.6700e+02, 5.0000e+01]),\n",
       " array([-148. , -119.8,  -91.6,  -63.4,  -35.2,   -7. ,   21.2,   49.4,\n",
       "          77.6,  105.8,  134. ]),\n",
       " <BarContainer object of 10 artists>)"
      ]
     },
     "execution_count": 26,
     "metadata": {},
     "output_type": "execute_result"
    },
    {
     "data": {
      "image/png": "[encoded data removed]",
      "text/plain": [
       "<Figure size 640x480 with 1 Axes>"
      ]
     },
     "metadata": {},
     "output_type": "display_data"
    }
   ],
   "source": [
    "distribution = []\n",
    "\n",
    "for i in range(100_000):\n",
    "    list_of_values = list(simulate(1000).values())\n",
    "    difference = list_of_values[0] - list_of_values[1]\n",
    "    distribution.append(difference)\n",
    "\n",
    "plt.hist(np.array(distribution))"
   ]
  },
  {
   "cell_type": "markdown",
   "metadata": {},
   "source": [
    "# [PT-BR] Resultados\n",
    "# [EN-US] Results"
   ]
  },
  {
   "cell_type": "markdown",
   "metadata": {},
   "source": [
    "## [PT-BR]\n",
    "Considerando que a média de valores é 0 e a diferença entre as probabilidades tende a 0, podemos assumir com uma grande confiança que ambos eventos possuem probabilidades iguais de ocorrer.\n",
    "\n",
    "## [EN-US]\n",
    "Considering that the mean is 0 and the difference between probabilities tends toward 0, we can assume with a great confidence that both events have an equal probability to occur."
   ]
  }
 ],
 "metadata": {
  "kernelspec": {
   "display_name": ".env",
   "language": "python",
   "name": "python3"
  },
  "language_info": {
   "codemirror_mode": {
    "name": "ipython",
    "version": 3
   },
   "file_extension": ".py",
   "mimetype": "text/x-python",
   "name": "python",
   "nbconvert_exporter": "python",
   "pygments_lexer": "ipython3",
   "version": "3.11.4"
  },
  "orig_nbformat": 4
 },
 "nbformat": 4,
 "nbformat_minor": 2
}
